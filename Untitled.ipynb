{
 "cells": [
  {
   "cell_type": "code",
   "execution_count": 1,
   "id": "4275ddca",
   "metadata": {},
   "outputs": [],
   "source": [
    "import pandas as pd\n",
    "import numpy as np\n",
    "import matplotlib.pyplot as plt\n",
    "import seaborn as sns\n",
    "%matplotlib inline"
   ]
  },
  {
   "cell_type": "code",
   "execution_count": 2,
   "id": "969f4969",
   "metadata": {},
   "outputs": [],
   "source": [
    "pd.set_option('display.max_rows', 500)"
   ]
  },
  {
   "cell_type": "code",
   "execution_count": 22,
   "id": "eebe51cc",
   "metadata": {},
   "outputs": [
    {
     "data": {
      "text/plain": [
       "Index(['Job Title', 'Salary Estimate', 'Job Description', 'Rating',\n",
       "       'Company Name', 'Location', 'Headquarters', 'Size', 'Founded',\n",
       "       'Type of ownership', 'Industry', 'Sector', 'Revenue', 'Competitors'],\n",
       "      dtype='object')"
      ]
     },
     "execution_count": 22,
     "metadata": {},
     "output_type": "execute_result"
    }
   ],
   "source": [
    "df.columns"
   ]
  },
  {
   "cell_type": "code",
   "execution_count": 11,
   "id": "e159fa84",
   "metadata": {
    "scrolled": true
   },
   "outputs": [],
   "source": [
    "df = pd.read_csv('glassdoor_jobs.csv').drop(columns=['Unnamed: 0'])"
   ]
  },
  {
   "cell_type": "code",
   "execution_count": 12,
   "id": "a2071601",
   "metadata": {},
   "outputs": [
    {
     "data": {
      "text/plain": [
       "Job Title            0\n",
       "Salary Estimate      0\n",
       "Job Description      0\n",
       "Rating               0\n",
       "Company Name         0\n",
       "Location             0\n",
       "Headquarters         0\n",
       "Size                 0\n",
       "Founded              0\n",
       "Type of ownership    0\n",
       "Industry             0\n",
       "Sector               0\n",
       "Revenue              0\n",
       "Competitors          0\n",
       "dtype: int64"
      ]
     },
     "execution_count": 12,
     "metadata": {},
     "output_type": "execute_result"
    }
   ],
   "source": [
    "df.isnull().sum()"
   ]
  },
  {
   "cell_type": "code",
   "execution_count": 13,
   "id": "e289767d",
   "metadata": {
    "scrolled": true
   },
   "outputs": [
    {
     "data": {
      "text/plain": [
       "356"
      ]
     },
     "execution_count": 13,
     "metadata": {},
     "output_type": "execute_result"
    }
   ],
   "source": [
    "df.duplicated().sum()"
   ]
  },
  {
   "cell_type": "code",
   "execution_count": 24,
   "id": "72ffe7ff",
   "metadata": {},
   "outputs": [
    {
     "data": {
      "text/plain": [
       "(956, 14)"
      ]
     },
     "execution_count": 24,
     "metadata": {},
     "output_type": "execute_result"
    }
   ],
   "source": [
    "df.shape"
   ]
  },
  {
   "cell_type": "code",
   "execution_count": 25,
   "id": "57d33062",
   "metadata": {},
   "outputs": [],
   "source": [
    "df.drop_duplicates(inplace=True)"
   ]
  },
  {
   "cell_type": "code",
   "execution_count": 26,
   "id": "ef4efd5e",
   "metadata": {},
   "outputs": [
    {
     "data": {
      "text/html": [
       "<div>\n",
       "<style scoped>\n",
       "    .dataframe tbody tr th:only-of-type {\n",
       "        vertical-align: middle;\n",
       "    }\n",
       "\n",
       "    .dataframe tbody tr th {\n",
       "        vertical-align: top;\n",
       "    }\n",
       "\n",
       "    .dataframe thead th {\n",
       "        text-align: right;\n",
       "    }\n",
       "</style>\n",
       "<table border=\"1\" class=\"dataframe\">\n",
       "  <thead>\n",
       "    <tr style=\"text-align: right;\">\n",
       "      <th></th>\n",
       "      <th>Rating</th>\n",
       "      <th>Founded</th>\n",
       "    </tr>\n",
       "  </thead>\n",
       "  <tbody>\n",
       "    <tr>\n",
       "      <th>count</th>\n",
       "      <td>600.000000</td>\n",
       "      <td>600.000000</td>\n",
       "    </tr>\n",
       "    <tr>\n",
       "      <th>mean</th>\n",
       "      <td>3.633333</td>\n",
       "      <td>1771.995000</td>\n",
       "    </tr>\n",
       "    <tr>\n",
       "      <th>std</th>\n",
       "      <td>1.067296</td>\n",
       "      <td>604.246977</td>\n",
       "    </tr>\n",
       "    <tr>\n",
       "      <th>min</th>\n",
       "      <td>-1.000000</td>\n",
       "      <td>-1.000000</td>\n",
       "    </tr>\n",
       "    <tr>\n",
       "      <th>25%</th>\n",
       "      <td>3.400000</td>\n",
       "      <td>1939.000000</td>\n",
       "    </tr>\n",
       "    <tr>\n",
       "      <th>50%</th>\n",
       "      <td>3.800000</td>\n",
       "      <td>1993.500000</td>\n",
       "    </tr>\n",
       "    <tr>\n",
       "      <th>75%</th>\n",
       "      <td>4.200000</td>\n",
       "      <td>2008.000000</td>\n",
       "    </tr>\n",
       "    <tr>\n",
       "      <th>max</th>\n",
       "      <td>5.000000</td>\n",
       "      <td>2019.000000</td>\n",
       "    </tr>\n",
       "  </tbody>\n",
       "</table>\n",
       "</div>"
      ],
      "text/plain": [
       "           Rating      Founded\n",
       "count  600.000000   600.000000\n",
       "mean     3.633333  1771.995000\n",
       "std      1.067296   604.246977\n",
       "min     -1.000000    -1.000000\n",
       "25%      3.400000  1939.000000\n",
       "50%      3.800000  1993.500000\n",
       "75%      4.200000  2008.000000\n",
       "max      5.000000  2019.000000"
      ]
     },
     "execution_count": 26,
     "metadata": {},
     "output_type": "execute_result"
    }
   ],
   "source": [
    "df.describe()"
   ]
  },
  {
   "cell_type": "code",
   "execution_count": 29,
   "id": "517349dd",
   "metadata": {},
   "outputs": [
    {
     "data": {
      "text/html": [
       "<div>\n",
       "<style scoped>\n",
       "    .dataframe tbody tr th:only-of-type {\n",
       "        vertical-align: middle;\n",
       "    }\n",
       "\n",
       "    .dataframe tbody tr th {\n",
       "        vertical-align: top;\n",
       "    }\n",
       "\n",
       "    .dataframe thead th {\n",
       "        text-align: right;\n",
       "    }\n",
       "</style>\n",
       "<table border=\"1\" class=\"dataframe\">\n",
       "  <thead>\n",
       "    <tr style=\"text-align: right;\">\n",
       "      <th></th>\n",
       "      <th>Job Title</th>\n",
       "      <th>Salary Estimate</th>\n",
       "      <th>Job Description</th>\n",
       "      <th>Rating</th>\n",
       "      <th>Company Name</th>\n",
       "      <th>Location</th>\n",
       "      <th>Headquarters</th>\n",
       "      <th>Size</th>\n",
       "      <th>Founded</th>\n",
       "      <th>Type of ownership</th>\n",
       "      <th>Industry</th>\n",
       "      <th>Sector</th>\n",
       "      <th>Revenue</th>\n",
       "      <th>Competitors</th>\n",
       "    </tr>\n",
       "  </thead>\n",
       "  <tbody>\n",
       "    <tr>\n",
       "      <th>162</th>\n",
       "      <td>Data Engineer</td>\n",
       "      <td>$80K-$120K (Glassdoor est.)</td>\n",
       "      <td>As a Data Engineer at Productive Edge, you wil...</td>\n",
       "      <td>4.3</td>\n",
       "      <td>Productive Edge\\n4.3</td>\n",
       "      <td>Chicago, IL</td>\n",
       "      <td>Chicago, IL</td>\n",
       "      <td>51 to 200 employees</td>\n",
       "      <td>2008</td>\n",
       "      <td>Company - Private</td>\n",
       "      <td>Computer Hardware &amp; Software</td>\n",
       "      <td>Information Technology</td>\n",
       "      <td>$10 to $25 million (USD)</td>\n",
       "      <td>Numerator, Rise Interactive, Salom</td>\n",
       "    </tr>\n",
       "    <tr>\n",
       "      <th>417</th>\n",
       "      <td>Scientist Manufacturing - Kentucky BioProcessing</td>\n",
       "      <td>$68K-$139K (Glassdoor est.)</td>\n",
       "      <td>British American Tobacco\\nReynolds American In...</td>\n",
       "      <td>3.1</td>\n",
       "      <td>Reynolds American\\n3.1</td>\n",
       "      <td>Owensboro, KY</td>\n",
       "      <td>Winston-Salem, NC</td>\n",
       "      <td>5001 to 10000 employees</td>\n",
       "      <td>1875</td>\n",
       "      <td>Company - Private</td>\n",
       "      <td>Consumer Products Manufacturing</td>\n",
       "      <td>Manufacturing</td>\n",
       "      <td>$10+ billion (USD)</td>\n",
       "      <td>-1</td>\n",
       "    </tr>\n",
       "    <tr>\n",
       "      <th>420</th>\n",
       "      <td>Consultant - Analytics Consulting</td>\n",
       "      <td>$54K-$71K (Glassdoor est.)</td>\n",
       "      <td>Q4 - AINA - Sr RPA Developer (5A) - AA - Hub\\n...</td>\n",
       "      <td>3.0</td>\n",
       "      <td>Infosys\\n3.0</td>\n",
       "      <td>Hartford, CT</td>\n",
       "      <td>Bengaluru, India</td>\n",
       "      <td>10000+ employees</td>\n",
       "      <td>1981</td>\n",
       "      <td>Company - Public</td>\n",
       "      <td>IT Services</td>\n",
       "      <td>Information Technology</td>\n",
       "      <td>$10+ billion (USD)</td>\n",
       "      <td>Tata Consultancy Services, Accenture, Cognizan...</td>\n",
       "    </tr>\n",
       "    <tr>\n",
       "      <th>376</th>\n",
       "      <td>RESEARCH SCIENTIST - BIOLOGICAL SAFETY</td>\n",
       "      <td>$38K-$82K (Glassdoor est.)</td>\n",
       "      <td>Join the Applied Physics Division as a Researc...</td>\n",
       "      <td>3.9</td>\n",
       "      <td>Southwest Research Institute\\n3.9</td>\n",
       "      <td>San Antonio, TX</td>\n",
       "      <td>San Antonio, TX</td>\n",
       "      <td>1001 to 5000 employees</td>\n",
       "      <td>1947</td>\n",
       "      <td>Nonprofit Organization</td>\n",
       "      <td>Research &amp; Development</td>\n",
       "      <td>Business Services</td>\n",
       "      <td>$500 million to $1 billion (USD)</td>\n",
       "      <td>Los Alamos National Laboratory, Battelle, SRI ...</td>\n",
       "    </tr>\n",
       "    <tr>\n",
       "      <th>362</th>\n",
       "      <td>Data Engineer, Data Engineering and Artifical ...</td>\n",
       "      <td>$71K-$134K (Glassdoor est.)</td>\n",
       "      <td>Job Description\\n\\n\\nAre you looking for a pat...</td>\n",
       "      <td>3.7</td>\n",
       "      <td>Takeda Pharmaceuticals\\n3.7</td>\n",
       "      <td>Cambridge, MA</td>\n",
       "      <td>OSAKA, Japan</td>\n",
       "      <td>10000+ employees</td>\n",
       "      <td>1781</td>\n",
       "      <td>Company - Public</td>\n",
       "      <td>Biotech &amp; Pharmaceuticals</td>\n",
       "      <td>Biotech &amp; Pharmaceuticals</td>\n",
       "      <td>$10+ billion (USD)</td>\n",
       "      <td>Novartis, Baxter, Pfizer</td>\n",
       "    </tr>\n",
       "  </tbody>\n",
       "</table>\n",
       "</div>"
      ],
      "text/plain": [
       "                                             Job Title  \\\n",
       "162                                      Data Engineer   \n",
       "417   Scientist Manufacturing - Kentucky BioProcessing   \n",
       "420                  Consultant - Analytics Consulting   \n",
       "376             RESEARCH SCIENTIST - BIOLOGICAL SAFETY   \n",
       "362  Data Engineer, Data Engineering and Artifical ...   \n",
       "\n",
       "                 Salary Estimate  \\\n",
       "162  $80K-$120K (Glassdoor est.)   \n",
       "417  $68K-$139K (Glassdoor est.)   \n",
       "420   $54K-$71K (Glassdoor est.)   \n",
       "376   $38K-$82K (Glassdoor est.)   \n",
       "362  $71K-$134K (Glassdoor est.)   \n",
       "\n",
       "                                       Job Description  Rating  \\\n",
       "162  As a Data Engineer at Productive Edge, you wil...     4.3   \n",
       "417  British American Tobacco\\nReynolds American In...     3.1   \n",
       "420  Q4 - AINA - Sr RPA Developer (5A) - AA - Hub\\n...     3.0   \n",
       "376  Join the Applied Physics Division as a Researc...     3.9   \n",
       "362  Job Description\\n\\n\\nAre you looking for a pat...     3.7   \n",
       "\n",
       "                          Company Name         Location       Headquarters  \\\n",
       "162               Productive Edge\\n4.3      Chicago, IL        Chicago, IL   \n",
       "417             Reynolds American\\n3.1    Owensboro, KY  Winston-Salem, NC   \n",
       "420                       Infosys\\n3.0     Hartford, CT   Bengaluru, India   \n",
       "376  Southwest Research Institute\\n3.9  San Antonio, TX    San Antonio, TX   \n",
       "362        Takeda Pharmaceuticals\\n3.7    Cambridge, MA       OSAKA, Japan   \n",
       "\n",
       "                        Size  Founded       Type of ownership  \\\n",
       "162      51 to 200 employees     2008       Company - Private   \n",
       "417  5001 to 10000 employees     1875       Company - Private   \n",
       "420         10000+ employees     1981        Company - Public   \n",
       "376   1001 to 5000 employees     1947  Nonprofit Organization   \n",
       "362         10000+ employees     1781        Company - Public   \n",
       "\n",
       "                            Industry                     Sector  \\\n",
       "162     Computer Hardware & Software     Information Technology   \n",
       "417  Consumer Products Manufacturing              Manufacturing   \n",
       "420                      IT Services     Information Technology   \n",
       "376           Research & Development          Business Services   \n",
       "362        Biotech & Pharmaceuticals  Biotech & Pharmaceuticals   \n",
       "\n",
       "                              Revenue  \\\n",
       "162          $10 to $25 million (USD)   \n",
       "417                $10+ billion (USD)   \n",
       "420                $10+ billion (USD)   \n",
       "376  $500 million to $1 billion (USD)   \n",
       "362                $10+ billion (USD)   \n",
       "\n",
       "                                           Competitors  \n",
       "162                 Numerator, Rise Interactive, Salom  \n",
       "417                                                 -1  \n",
       "420  Tata Consultancy Services, Accenture, Cognizan...  \n",
       "376  Los Alamos National Laboratory, Battelle, SRI ...  \n",
       "362                           Novartis, Baxter, Pfizer  "
      ]
     },
     "execution_count": 29,
     "metadata": {},
     "output_type": "execute_result"
    }
   ],
   "source": [
    "df.sample(5)"
   ]
  },
  {
   "cell_type": "code",
   "execution_count": 42,
   "id": "69589827",
   "metadata": {},
   "outputs": [
    {
     "name": "stdout",
     "output_type": "stream",
     "text": [
      "<class 'pandas.core.frame.DataFrame'>\n",
      "Int64Index: 600 entries, 0 to 948\n",
      "Data columns (total 14 columns):\n",
      " #   Column             Non-Null Count  Dtype  \n",
      "---  ------             --------------  -----  \n",
      " 0   Job Title          600 non-null    object \n",
      " 1   Salary Estimate    600 non-null    object \n",
      " 2   Job Description    600 non-null    object \n",
      " 3   Rating             600 non-null    float64\n",
      " 4   Company Name       600 non-null    object \n",
      " 5   Location           600 non-null    object \n",
      " 6   Headquarters       600 non-null    object \n",
      " 7   Size               600 non-null    object \n",
      " 8   Founded            600 non-null    int64  \n",
      " 9   Type of ownership  600 non-null    object \n",
      " 10  Industry           600 non-null    object \n",
      " 11  Sector             600 non-null    object \n",
      " 12  Revenue            600 non-null    object \n",
      " 13  Competitors        600 non-null    object \n",
      "dtypes: float64(1), int64(1), object(12)\n",
      "memory usage: 70.3+ KB\n"
     ]
    }
   ],
   "source": [
    "df.info()"
   ]
  },
  {
   "cell_type": "markdown",
   "id": "00829759",
   "metadata": {},
   "source": [
    "## Problems with the Dataset\n",
    "- Apply Ordinal Encoding on Size\n",
    "- OHE on Type of ownership\n",
    "- Salary Estimate has to be in numbers"
   ]
  },
  {
   "cell_type": "code",
   "execution_count": 45,
   "id": "01fd6d92",
   "metadata": {},
   "outputs": [
    {
     "name": "stderr",
     "output_type": "stream",
     "text": [
      "C:\\Users\\Shubh Pundir\\AppData\\Local\\Temp\\ipykernel_21448\\1168484092.py:1: FutureWarning: The default value of regex will change from True to False in a future version.\n",
      "  df['Salary Estimate'].astype(str).str.replace(' (Glassdoor est.)','')\n"
     ]
    },
    {
     "data": {
      "text/plain": [
       "0       $53K-$91K (Glassdoor est.)\n",
       "1      $63K-$112K (Glassdoor est.)\n",
       "2       $80K-$90K (Glassdoor est.)\n",
       "3       $56K-$97K (Glassdoor est.)\n",
       "4      $86K-$143K (Glassdoor est.)\n",
       "                  ...             \n",
       "922                             -1\n",
       "925                             -1\n",
       "928    $59K-$125K (Glassdoor est.)\n",
       "945    $80K-$142K (Glassdoor est.)\n",
       "948    $62K-$113K (Glassdoor est.)\n",
       "Name: Salary Estimate, Length: 600, dtype: object"
      ]
     },
     "execution_count": 45,
     "metadata": {},
     "output_type": "execute_result"
    }
   ],
   "source": [
    "df['Salary Estimate'].astype(str).str.replace(' (Glassdoor est.)','')"
   ]
  },
  {
   "cell_type": "code",
   "execution_count": 60,
   "id": "9f6771bb",
   "metadata": {},
   "outputs": [
    {
     "data": {
      "text/plain": [
       "0       $53K-$91K (Glassdoor est.)\n",
       "1      $63K-$112K (Glassdoor est.)\n",
       "2       $80K-$90K (Glassdoor est.)\n",
       "3       $56K-$97K (Glassdoor est.)\n",
       "4      $86K-$143K (Glassdoor est.)\n",
       "                  ...             \n",
       "922                             -1\n",
       "925                             -1\n",
       "928    $59K-$125K (Glassdoor est.)\n",
       "945    $80K-$142K (Glassdoor est.)\n",
       "948    $62K-$113K (Glassdoor est.)\n",
       "Name: Salary Estimate, Length: 600, dtype: object"
      ]
     },
     "execution_count": 60,
     "metadata": {},
     "output_type": "execute_result"
    }
   ],
   "source": [
    "df['Salary Estimate'].str.replace(\" (Glassdoor est.)\",\"\",regex=True)"
   ]
  },
  {
   "cell_type": "code",
   "execution_count": 53,
   "id": "96a22357",
   "metadata": {},
   "outputs": [
    {
     "data": {
      "text/plain": [
       "0       $53K-$91K (Glassdoor est.)\n",
       "1      $63K-$112K (Glassdoor est.)\n",
       "2       $80K-$90K (Glassdoor est.)\n",
       "3       $56K-$97K (Glassdoor est.)\n",
       "4      $86K-$143K (Glassdoor est.)\n",
       "                  ...             \n",
       "922                             -1\n",
       "925                             -1\n",
       "928    $59K-$125K (Glassdoor est.)\n",
       "945    $80K-$142K (Glassdoor est.)\n",
       "948    $62K-$113K (Glassdoor est.)\n",
       "Name: Salary Estimate, Length: 600, dtype: object"
      ]
     },
     "execution_count": 53,
     "metadata": {},
     "output_type": "execute_result"
    }
   ],
   "source": [
    "df['Salary Estimate'].replace('','')"
   ]
  },
  {
   "cell_type": "code",
   "execution_count": 56,
   "id": "05fc0f6e",
   "metadata": {},
   "outputs": [
    {
     "ename": "TypeError",
     "evalue": "str.replace() takes no keyword arguments",
     "output_type": "error",
     "traceback": [
      "\u001b[1;31m---------------------------------------------------------------------------\u001b[0m",
      "\u001b[1;31mTypeError\u001b[0m                                 Traceback (most recent call last)",
      "\u001b[1;32m~\\AppData\\Local\\Temp\\ipykernel_21448\\500276483.py\u001b[0m in \u001b[0;36m<module>\u001b[1;34m\u001b[0m\n\u001b[1;32m----> 1\u001b[1;33m \u001b[1;34m'$53K-$91K (Glassdoor est.)'\u001b[0m\u001b[1;33m.\u001b[0m\u001b[0mreplace\u001b[0m\u001b[1;33m(\u001b[0m\u001b[1;34m' (Glassdoor est.)'\u001b[0m\u001b[1;33m,\u001b[0m\u001b[1;34m''\u001b[0m\u001b[1;33m,\u001b[0m\u001b[0mregex\u001b[0m\u001b[1;33m=\u001b[0m\u001b[1;32mTrue\u001b[0m\u001b[1;33m)\u001b[0m\u001b[1;33m\u001b[0m\u001b[1;33m\u001b[0m\u001b[0m\n\u001b[0m",
      "\u001b[1;31mTypeError\u001b[0m: str.replace() takes no keyword arguments"
     ]
    }
   ],
   "source": [
    "'$53K-$91K (Glassdoor est.)'.replace(' (Glassdoor est.)','')"
   ]
  },
  {
   "cell_type": "code",
   "execution_count": 41,
   "id": "657bde16",
   "metadata": {},
   "outputs": [
    {
     "data": {
      "text/plain": [
       "0       $53K-$91K (Glassdoor est.)\n",
       "1      $63K-$112K (Glassdoor est.)\n",
       "2       $80K-$90K (Glassdoor est.)\n",
       "3       $56K-$97K (Glassdoor est.)\n",
       "4      $86K-$143K (Glassdoor est.)\n",
       "                  ...             \n",
       "922                             -1\n",
       "925                             -1\n",
       "928    $59K-$125K (Glassdoor est.)\n",
       "945    $80K-$142K (Glassdoor est.)\n",
       "948    $62K-$113K (Glassdoor est.)\n",
       "Name: Salary Estimate, Length: 600, dtype: object"
      ]
     },
     "execution_count": 41,
     "metadata": {},
     "output_type": "execute_result"
    }
   ],
   "source": [
    "df['Salary Estimate'].replace('','')"
   ]
  },
  {
   "cell_type": "code",
   "execution_count": null,
   "id": "50b904b7",
   "metadata": {},
   "outputs": [],
   "source": []
  },
  {
   "cell_type": "code",
   "execution_count": null,
   "id": "25eb4cc8",
   "metadata": {},
   "outputs": [],
   "source": []
  },
  {
   "cell_type": "code",
   "execution_count": null,
   "id": "2994ab11",
   "metadata": {},
   "outputs": [],
   "source": []
  }
 ],
 "metadata": {
  "kernelspec": {
   "display_name": "Python 3 (ipykernel)",
   "language": "python",
   "name": "python3"
  },
  "language_info": {
   "codemirror_mode": {
    "name": "ipython",
    "version": 3
   },
   "file_extension": ".py",
   "mimetype": "text/x-python",
   "name": "python",
   "nbconvert_exporter": "python",
   "pygments_lexer": "ipython3",
   "version": "3.9.13"
  }
 },
 "nbformat": 4,
 "nbformat_minor": 5
}
